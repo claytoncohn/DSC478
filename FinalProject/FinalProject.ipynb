{
 "cells": [
  {
   "cell_type": "markdown",
   "metadata": {},
   "source": [
    "# Final Project - Recommender System"
   ]
  },
  {
   "cell_type": "markdown",
   "metadata": {},
   "source": [
    "Clayton Cohn<br>\n",
    "Rosario Fabien<br>\n",
    "Richard Olekanma"
   ]
  },
  {
   "cell_type": "code",
   "execution_count": 1,
   "metadata": {},
   "outputs": [],
   "source": [
    "# Original dataset taken from: https://www.kaggle.com/mkechinov/ecommerce-events-history-in-cosmetics-shop?select=2019-Dec.csv\n",
    "# Original dataset attributable to: https://rees46.com/\n",
    "\n",
    "import pandas as pd\n",
    "\n",
    "DATA_PATH = \"/Users/claytoncohn/Dropbox/New/DePaul/DSC478/FinalProject/\""
   ]
  },
  {
   "cell_type": "code",
   "execution_count": 2,
   "metadata": {
    "scrolled": true
   },
   "outputs": [
    {
     "name": "stdout",
     "output_type": "stream",
     "text": [
      "(79819, 2)\n"
     ]
    },
    {
     "data": {
      "text/html": [
       "<div>\n",
       "<style scoped>\n",
       "    .dataframe tbody tr th:only-of-type {\n",
       "        vertical-align: middle;\n",
       "    }\n",
       "\n",
       "    .dataframe tbody tr th {\n",
       "        vertical-align: top;\n",
       "    }\n",
       "\n",
       "    .dataframe thead th {\n",
       "        text-align: right;\n",
       "    }\n",
       "</style>\n",
       "<table border=\"1\" class=\"dataframe\">\n",
       "  <thead>\n",
       "    <tr style=\"text-align: right;\">\n",
       "      <th></th>\n",
       "      <th>product_id</th>\n",
       "      <th>user_id</th>\n",
       "    </tr>\n",
       "  </thead>\n",
       "  <tbody>\n",
       "    <tr>\n",
       "      <th>0</th>\n",
       "      <td>0</td>\n",
       "      <td>0</td>\n",
       "    </tr>\n",
       "    <tr>\n",
       "      <th>1</th>\n",
       "      <td>1</td>\n",
       "      <td>0</td>\n",
       "    </tr>\n",
       "    <tr>\n",
       "      <th>2</th>\n",
       "      <td>2</td>\n",
       "      <td>0</td>\n",
       "    </tr>\n",
       "    <tr>\n",
       "      <th>3</th>\n",
       "      <td>3</td>\n",
       "      <td>0</td>\n",
       "    </tr>\n",
       "    <tr>\n",
       "      <th>4</th>\n",
       "      <td>4</td>\n",
       "      <td>0</td>\n",
       "    </tr>\n",
       "    <tr>\n",
       "      <th>5</th>\n",
       "      <td>5</td>\n",
       "      <td>0</td>\n",
       "    </tr>\n",
       "    <tr>\n",
       "      <th>6</th>\n",
       "      <td>6</td>\n",
       "      <td>0</td>\n",
       "    </tr>\n",
       "    <tr>\n",
       "      <th>7</th>\n",
       "      <td>7</td>\n",
       "      <td>0</td>\n",
       "    </tr>\n",
       "    <tr>\n",
       "      <th>8</th>\n",
       "      <td>8</td>\n",
       "      <td>0</td>\n",
       "    </tr>\n",
       "    <tr>\n",
       "      <th>9</th>\n",
       "      <td>9</td>\n",
       "      <td>0</td>\n",
       "    </tr>\n",
       "  </tbody>\n",
       "</table>\n",
       "</div>"
      ],
      "text/plain": [
       "   product_id  user_id\n",
       "0           0        0\n",
       "1           1        0\n",
       "2           2        0\n",
       "3           3        0\n",
       "4           4        0\n",
       "5           5        0\n",
       "6           6        0\n",
       "7           7        0\n",
       "8           8        0\n",
       "9           9        0"
      ]
     },
     "execution_count": 2,
     "metadata": {},
     "output_type": "execute_result"
    }
   ],
   "source": [
    "# Clayton Cohn's portion: item-based collaboritve filtering recommender system\n",
    "\n",
    "# First import the data (I pre-cleaned it in FinalProjectClean.py)\n",
    "import numpy as np\n",
    "\n",
    "df = pd.read_csv(\"cosmetics_data.csv\", header=0, names=[\"product_id\", \"user_id\"])\n",
    "print(df.shape)\n",
    "df.head(10)"
   ]
  },
  {
   "cell_type": "code",
   "execution_count": null,
   "metadata": {},
   "outputs": [],
   "source": [
    "# Create dictionary of all users and how many times each user bought each project\n",
    "# Each key is user\n",
    "# Each value is array of products purchased by that user\n",
    "\n",
    "users = {}\n",
    "for index, row in df.iterrows():\n",
    "    user = row[\"user_id\"]\n",
    "    product = row[\"product_id\"]\n",
    "    if user in users:\n",
    "        products = users[user]\n",
    "        products.append(product)\n",
    "        users.update({ user : products })\n",
    "    else:\n",
    "        users.update({ user : [product] })"
   ]
  },
  {
   "cell_type": "code",
   "execution_count": null,
   "metadata": {},
   "outputs": [],
   "source": [
    "# Code snippet taken from:\n",
    "# https://stackoverflow.com/questions/7971618/python-return-first-n-keyvalue-pairs-from-dict\n",
    "\n",
    "# Helper function to grab first n (key,value) pairs of given dictionary\n",
    "from itertools import islice\n",
    "\n",
    "def take(n, iterable):\n",
    "    return list(islice(iterable, n))\n",
    "\n",
    "head = take(10, users.items())\n",
    "\n",
    "print(\"{} total users.\".format(len(users)))\n",
    "\n",
    "for row in head:\n",
    "    print(row)"
   ]
  },
  {
   "cell_type": "code",
   "execution_count": null,
   "metadata": {},
   "outputs": [],
   "source": [
    "# Create an array from above users dictionary.\n",
    "# Each entry will look like this: [user,product,count]\n",
    "# An entry of [0,0,3] means that user 0 bought product 0 a total of 3 times\n",
    "\n",
    "import numpy as np\n",
    "\n",
    "data = []\n",
    "for key, value in users.items():\n",
    "    user = key\n",
    "    products = np.array(value)\n",
    "    prod_unique = np.unique(products)\n",
    "    \n",
    "    for i in prod_unique:\n",
    "        data.append([user, i, np.sum(products==i)])"
   ]
  },
  {
   "cell_type": "code",
   "execution_count": null,
   "metadata": {},
   "outputs": [],
   "source": [
    "print(\"{} user/product combinations.\".format(len(data)))\n",
    "data[:25]"
   ]
  },
  {
   "cell_type": "code",
   "execution_count": null,
   "metadata": {},
   "outputs": [],
   "source": [
    "# Convert above array to a Pandas DataFrame\n",
    "\n",
    "df_data = pd.DataFrame(data=data, columns=[\"user_id\", \"product_id\", \"count\"])\n",
    "print(df_data.shape)\n",
    "df_data.sample(10)"
   ]
  },
  {
   "cell_type": "code",
   "execution_count": null,
   "metadata": {
    "scrolled": true
   },
   "outputs": [],
   "source": [
    "# Convert DataFrame to Pivot Table\n",
    "\n",
    "df_mat_user = pd.pivot_table(df_data, values=\"count\",index=\"user_id\",columns=\"product_id\")\n",
    "df_mat_user.head(10)"
   ]
  },
  {
   "cell_type": "code",
   "execution_count": null,
   "metadata": {
    "scrolled": false
   },
   "outputs": [],
   "source": [
    "# Swap NaNs for 0s\n",
    "# This works fine, as NaN means no purchases and 0 means no purchases\n",
    "\n",
    "df_mat_user = df_mat_user.fillna(0)\n",
    "df_mat_user.head(10)"
   ]
  },
  {
   "cell_type": "code",
   "execution_count": null,
   "metadata": {},
   "outputs": [],
   "source": [
    "# Must split users for validation purposes\n",
    "# Item-item similarity matrix will be based on the training set\n",
    "# hold-out (test) set of users will be validated with same item-item similarity matrix \n",
    "#    created from training set\n",
    "\n",
    "from sklearn.model_selection import train_test_split\n",
    "\n",
    "SEED = 33\n",
    "\n",
    "X_train, X_test = train_test_split(df_mat_user, test_size=0.2, random_state=SEED)\n",
    "X_train.head()"
   ]
  },
  {
   "cell_type": "code",
   "execution_count": null,
   "metadata": {
    "scrolled": true
   },
   "outputs": [],
   "source": [
    "# Renamed variables to be more intuitive\n",
    "\n",
    "users_train = X_train\n",
    "users_test = X_test\n",
    "products = X_train.T\n",
    "print(products.shape)\n",
    "products"
   ]
  },
  {
   "cell_type": "code",
   "execution_count": null,
   "metadata": {},
   "outputs": [],
   "source": [
    "# Compute item-item similarity matrix\n",
    "# Using cosine similarity\n",
    "\n",
    "from sklearn.metrics.pairwise import cosine_similarity\n",
    "from scipy import sparse\n",
    "\n",
    "products_s = sparse.csr_matrix(products)\n",
    "item_item_mat = cosine_similarity(products_s)\n",
    "item_item_mat"
   ]
  },
  {
   "cell_type": "code",
   "execution_count": null,
   "metadata": {},
   "outputs": [],
   "source": [
    "# Recommender function\n",
    "\n",
    "# Function takes a user, identifies user's favorite product, returns top n closest \n",
    "#     products to user's favorite product based on item-item similarity matrix\n",
    "\n",
    "import operator\n",
    "\n",
    "def recommend(user, users, item_item_mat,n,verbose=True):\n",
    "    \n",
    "    # Get user's most purchased product\n",
    "    u = users.T[user]\n",
    "    prod_index, prod_count = max(enumerate(u), key=operator.itemgetter(1))\n",
    "    if verbose: \n",
    "        print(\"User {}'s favorite product is {} (purchased {} times)\".format(user,prod_index,prod_count))\n",
    "    \n",
    "    # Retrieve top n items closest to user's favorite\n",
    "    item_item = item_item_mat[prod_index]\n",
    "    item_item_df = pd.Series(data=item_item)\n",
    "    item_item_df.sort_values(axis=0, ascending=False, inplace=True)\n",
    "    \n",
    "    top = item_item_df[1:n + 1]\n",
    "    \n",
    "    return top    "
   ]
  },
  {
   "cell_type": "code",
   "execution_count": null,
   "metadata": {
    "scrolled": true
   },
   "outputs": [],
   "source": [
    "# Test call to demonstrate functionality of recommender\n",
    "# A random user is grabbed, and n recommended products are returned\n",
    "\n",
    "TEST_USER = SEED\n",
    "\n",
    "top_n = recommend(TEST_USER, users_train, item_item_mat, 5)\n",
    "top_n"
   ]
  },
  {
   "cell_type": "code",
   "execution_count": null,
   "metadata": {},
   "outputs": [],
   "source": [
    "# Function to evaluate quality of recommendations\n",
    "# Function takes user, recommendations as arguments, and checks those \n",
    "#    recommendations against user's actual purchase history\n",
    "# Binary return type: 1 = user DID buy at least one recommended product\n",
    "#                     0 = user DID NOT buy any of the recommended products\n",
    "# Evaluation will be done on both training and test sets for each user\n",
    "\n",
    "def didPurchase(user, users, products, top_n_ind):\n",
    "    ret_val = 0\n",
    "    u = users.T[user]\n",
    "    for i in top_n_ind:\n",
    "        if u[i] > 0:\n",
    "            ret_val = 1\n",
    "            break\n",
    "    return ret_val"
   ]
  },
  {
   "cell_type": "code",
   "execution_count": null,
   "metadata": {},
   "outputs": [],
   "source": [
    "# Isolate the indexes (product_ids) of recommended products\n",
    "top_n_ind = list(top_n.index)\n",
    "top_n_ind"
   ]
  },
  {
   "cell_type": "code",
   "execution_count": null,
   "metadata": {},
   "outputs": [],
   "source": [
    "# Test call to see if user actually bought any of the recommendations\n",
    "print(didPurchase(TEST_USER, users_train, products,top_n_ind))"
   ]
  },
  {
   "cell_type": "code",
   "execution_count": null,
   "metadata": {},
   "outputs": [],
   "source": [
    "# Will check each user's recommendations against purchase history\n",
    "\n",
    "# TRAINING SET VALIDATION\n",
    "\n",
    "bought_recs_train = 0\n",
    "for index, row in users_train.iterrows():\n",
    "    top_n = recommend(index, users_train, item_item_mat, 5, verbose=False)\n",
    "    top_n_ind = list(top_n.index)\n",
    "    if didPurchase(index, users_train,products,top_n_ind): bought_recs_train += 1\n",
    "        \n",
    "bought_recs_train"
   ]
  },
  {
   "cell_type": "code",
   "execution_count": null,
   "metadata": {},
   "outputs": [],
   "source": [
    "# Get percentage of users (training) who actually purchased a recommended product\n",
    "pct_purchased_train = bought_recs_train / len(users_train)\n",
    "print(\"% of users who purchased recommended item (training):\",pct_purchased_train)"
   ]
  },
  {
   "cell_type": "code",
   "execution_count": null,
   "metadata": {},
   "outputs": [],
   "source": [
    "# TEST SET VALIDATION\n",
    "\n",
    "bought_recs_test = 0\n",
    "for index, row in users_test.iterrows():\n",
    "    top_n = recommend(index, users_test, item_item_mat, 5, verbose=False)\n",
    "    top_n_ind = list(top_n.index)\n",
    "    if didPurchase(index, users_test,products,top_n_ind): bought_recs_test += 1\n",
    "        \n",
    "bought_recs_test"
   ]
  },
  {
   "cell_type": "code",
   "execution_count": null,
   "metadata": {},
   "outputs": [],
   "source": [
    "# Get percentage of users (test) who actually purchased a recommended product\n",
    "pct_purchased_test = bought_recs_test / len(users_test)\n",
    "print(\"% of users who purchased recommended item (testing):\",pct_purchased_test)"
   ]
  },
  {
   "cell_type": "code",
   "execution_count": null,
   "metadata": {},
   "outputs": [],
   "source": [
    "'''\n",
    "This is rather substantial. It says that 1/5 of the time, consumers purchased at least one item that was recommended\n",
    "to them. Although I have no way of telling how this number stacks up against Amazon, it is nervertheless significant.\n",
    "Obviously there are caveats. For one thing, I only included the <5% most frequently purchased products. I imagine it\n",
    "is harder to recommend products when the matrix is sparser. Also, I read that I can improve the item-item similarity\n",
    "matrix by only counting cosine similarities of items both purchased by the same user.\n",
    "'''"
   ]
  },
  {
   "cell_type": "code",
   "execution_count": null,
   "metadata": {},
   "outputs": [],
   "source": []
  }
 ],
 "metadata": {
  "kernelspec": {
   "display_name": "Python 3",
   "language": "python",
   "name": "python3"
  },
  "language_info": {
   "codemirror_mode": {
    "name": "ipython",
    "version": 3
   },
   "file_extension": ".py",
   "mimetype": "text/x-python",
   "name": "python",
   "nbconvert_exporter": "python",
   "pygments_lexer": "ipython3",
   "version": "3.7.4"
  }
 },
 "nbformat": 4,
 "nbformat_minor": 4
}
