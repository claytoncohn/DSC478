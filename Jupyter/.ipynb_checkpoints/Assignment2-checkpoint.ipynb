{
 "cells": [
  {
   "cell_type": "markdown",
   "metadata": {},
   "source": [
    "Clayton Cohn<br>\n",
    "April 21, 2020<br>\n",
    "DSC 478<br>\n",
    "Prof. Mobasher"
   ]
  },
  {
   "cell_type": "markdown",
   "metadata": {},
   "source": [
    "# Assignment 2"
   ]
  },
  {
   "cell_type": "markdown",
   "metadata": {},
   "source": [
    "1. K-Nearest-Neighbor (KNN) classification on Newsgroups [Dataset: newsgroups.zip]"
   ]
  },
  {
   "cell_type": "code",
   "execution_count": 3,
   "metadata": {},
   "outputs": [],
   "source": [
    "DATA_PATH = \"/Users/claytoncohn/Dropbox/New/DePaul/DSC478/data/newsgroups\""
   ]
  },
  {
   "cell_type": "markdown",
   "metadata": {},
   "source": [
    "For this problem you will use a subset of the 20 Newsgroup data set.<br>\n",
    "- The full data set contains 20,000 newsgroup documents\n",
    "- Partitioned (nearly) evenly across 20 different newsgroups  \n",
    "- The assignment data set contains a subset of 1000 documents and a vocabulary of  5,500 terms \n",
    "- Each document belongs to one of two classes Hockey (class label 1) and Microsoft Windows (class label 0)\n",
    "- The data has already been split (80%, 20%) into training and test data\n",
    "- The class labels for the training and test data are also provided in separate files\n",
    "- The training and test data are on term x document format: row for each term, column for each document. \n",
    "- The values in the table represent raw term occurence counts. \n",
    "- The data has already been preprocessed to extract tokens, remove stop words and perform stemming (so, the terms in the vocabulary are stems not full terms). \n",
    "- Please be sure to read the readme.txt file in the distribution."
   ]
  },
  {
   "cell_type": "markdown",
   "metadata": {},
   "source": [
    "Your tasks in this problem are the following:<br><br>\n",
    "[Note: for this problem you should not use scikit-learn for classification, but create your own KNN classifer. You may use Pandas, NumPy, standard Python libraries, and Matplotlib.]"
   ]
  },
  {
   "cell_type": "markdown",
   "metadata": {},
   "source": [
    "Create your own KNN classifier function.<br><br>\n",
    "Your classifier should allow as input the training data matrix, the training labels, the instance to be classified, the value of K, and should return the predicted class for the instance and the indices of the top K neighbors. <br><br>\n",
    "Your classifier should work with Euclidean distance as well as Cosine distance (which is 1 minus the Cosine similarity). You may create two separate classifiers, or add the distance metric as a parameter in the classifier function."
   ]
  },
  {
   "cell_type": "code",
   "execution_count": null,
   "metadata": {},
   "outputs": [],
   "source": []
  }
 ],
 "metadata": {
  "kernelspec": {
   "display_name": "Python 3",
   "language": "python",
   "name": "python3"
  },
  "language_info": {
   "codemirror_mode": {
    "name": "ipython",
    "version": 3
   },
   "file_extension": ".py",
   "mimetype": "text/x-python",
   "name": "python",
   "nbconvert_exporter": "python",
   "pygments_lexer": "ipython3",
   "version": "3.7.4"
  }
 },
 "nbformat": 4,
 "nbformat_minor": 4
}
